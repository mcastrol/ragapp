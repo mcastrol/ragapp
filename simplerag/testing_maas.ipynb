{
 "cells": [
  {
   "cell_type": "markdown",
   "metadata": {},
   "source": [
    "### Reading parameters\n",
    "1) Complete a .env file with the model, endpoint and api key that you get from MAAS: https://maas.apps.prod.rhoai.rh-aiservices-bu.com/admin/applications/5585?service_id=10\n",
    "\n",
    "#### For instance:\n",
    "MAAS_GRANITE_38=\"{\\\"model\\\": \\\"granite-3-8b-instruct\\\", \\\"apikey\\\": \\\"xxxxx\\\", \\\"endpoint\\\": \\\"https://granite-3-8b-instruct-maas-apicast-production.apps.prod.rhoai.rh-aiservices-bu.com:443\\\"}\"\n",
    "\n",
    "\n",
    "\n"
   ]
  },
  {
   "cell_type": "markdown",
   "metadata": {},
   "source": [
    "#todo parameters for langchain"
   ]
  },
  {
   "cell_type": "code",
   "execution_count": 1,
   "metadata": {},
   "outputs": [],
   "source": [
    "import requests\n",
    "import urllib3\n",
    "import numpy as np\n",
    "import json\n",
    "import os\n",
    "from dotenv import load_dotenv\n",
    "\n"
   ]
  },
  {
   "cell_type": "code",
   "execution_count": 2,
   "metadata": {},
   "outputs": [],
   "source": [
    "def read_parameter_dict(dict_name):\n",
    "    load_dotenv()\n",
    "    return(json.loads(os.getenv(dict_name)))\n"
   ]
  },
  {
   "cell_type": "code",
   "execution_count": 3,
   "metadata": {},
   "outputs": [],
   "source": [
    "def read_model_parameters(dict_name):\n",
    "    load_dotenv()\n",
    "    par_dict=json.loads(os.getenv(dict_name))\n",
    "    model=par_dict['model']\n",
    "    apikey=par_dict['apikey']\n",
    "    endpoint=par_dict['endpoint']\n",
    "    return(model, apikey, endpoint)\n"
   ]
  },
  {
   "cell_type": "code",
   "execution_count": 4,
   "metadata": {},
   "outputs": [],
   "source": [
    "def request_inference(model_name,endpoint, apikey, prompt,max_token=15, temperature=0):\n",
    "    # print(f\"Model {model_name} Endpoint {endpoint} {prompt}\")\n",
    "    completion = requests.post(\n",
    "    url=endpoint+'/v1/completions',\n",
    "    json={\n",
    "      \"model\": model_name,\n",
    "      \"prompt\": prompt,\n",
    "      \"max_tokens\": max_token,\n",
    "      \"temperature\": temperature\n",
    "    },\n",
    "    headers={'Authorization': 'Bearer '+apikey}).json()\n",
    "    return completion"
   ]
  },
  {
   "cell_type": "code",
   "execution_count": 6,
   "metadata": {},
   "outputs": [],
   "source": [
    "from langchain_community.llms import VLLMOpenAI\n",
    "def langchain_inference(model,endpoint, apikey, prompt):\n",
    "    llm = VLLMOpenAI(\n",
    "        openai_api_key=apikey,\n",
    "        openai_api_base=endpoint+\"/v1\",\n",
    "        model_name=model,\n",
    "        model_kwargs={\"stop\": [\".\"]},\n",
    "    )\n",
    "    return(llm.invoke(prompt))"
   ]
  },
  {
   "cell_type": "markdown",
   "metadata": {},
   "source": [
    "## Testing inference granite 3.1-8b-instruct\n",
    "Model: granite-3-8b-instruct\n",
    "\n",
    "Hugging Face: https://huggingface.co/ibm-granite/granite-3.1-8b-instruct\n",
    "\n",
    "\n",
    "\n",
    "\n",
    "\n",
    "\n"
   ]
  },
  {
   "cell_type": "code",
   "execution_count": 7,
   "metadata": {},
   "outputs": [
    {
     "data": {
      "text/plain": [
       "{'model': 'granite-3-8b-instruct',\n",
       " 'apikey': '157356977debf113cb5275dccf0b3f75',\n",
       " 'endpoint': 'https://granite-3-8b-instruct-maas-apicast-production.apps.prod.rhoai.rh-aiservices-bu.com:443'}"
      ]
     },
     "execution_count": 7,
     "metadata": {},
     "output_type": "execute_result"
    }
   ],
   "source": [
    "granite_38=read_parameter_dict(\"MAAS_GRANITE_38\")\n",
    "granite_38"
   ]
  },
  {
   "cell_type": "code",
   "execution_count": 8,
   "metadata": {},
   "outputs": [
    {
     "data": {
      "text/plain": [
       "' una ciudad que se caracteriza por su diversidad cultural, su vida nocturna vibrante y su impresionante arquitectura. Es una ciudad que ofrece una gran variedad de activ'"
      ]
     },
     "execution_count": 8,
     "metadata": {},
     "output_type": "execute_result"
    }
   ],
   "source": [
    "response=request_inference(granite_38['model'],granite_38['endpoint'],granite_38['apikey'], \"San Francisco es\",50)\n",
    "response['choices'][0]['text']"
   ]
  },
  {
   "cell_type": "code",
   "execution_count": 10,
   "metadata": {},
   "outputs": [
    {
     "data": {
      "text/plain": [
       "' una de las cunas de la civilización occidental y durante millones de años ha sido una de las ciudades más importantes del mundo'"
      ]
     },
     "execution_count": 10,
     "metadata": {},
     "output_type": "execute_result"
    }
   ],
   "source": [
    "response=langchain_inference(granite_38['model'],granite_38['endpoint'],granite_38['apikey'], \"Roma es\")\n",
    "response"
   ]
  },
  {
   "cell_type": "markdown",
   "metadata": {},
   "source": [
    "### Testing DeepSeek-R1\n",
    "https://huggingface.co/deepseek-ai/DeepSeek-R1\n",
    "\n"
   ]
  },
  {
   "cell_type": "code",
   "execution_count": null,
   "metadata": {},
   "outputs": [],
   "source": [
    "deepseek_r1=read_parameter_dict(\"DEEPSEEK_R1\")\n",
    "deepseek_r1"
   ]
  },
  {
   "cell_type": "code",
   "execution_count": 10,
   "metadata": {},
   "outputs": [],
   "source": [
    "model=deepseek_r1['model']\n",
    "endpoint=deepseek_r1['endpoint']\n",
    "apikey=deepseek_r1['apikey']\n",
    "prompt=\"how many rectangles of 10cm x 13 cm enter in a square meter?\"\n",
    "max_tokens=1000"
   ]
  },
  {
   "cell_type": "code",
   "execution_count": 11,
   "metadata": {},
   "outputs": [],
   "source": [
    "response=request_inference(model, endpoint,apikey, prompt, 500)\n"
   ]
  },
  {
   "cell_type": "code",
   "execution_count": null,
   "metadata": {},
   "outputs": [],
   "source": [
    "response['choices'][0]['text']"
   ]
  },
  {
   "cell_type": "markdown",
   "metadata": {},
   "source": [
    "### Testing Granite-Embedding-278m-multilingual\n",
    "https://huggingface.co/ibm-granite/granite-embedding-278m-multilingual"
   ]
  },
  {
   "cell_type": "code",
   "execution_count": 22,
   "metadata": {},
   "outputs": [],
   "source": [
    "emb_model, emb_apikey, emb_endpoint=read_model_parameters(\"GRANITEEMBEDDING\")"
   ]
  },
  {
   "cell_type": "code",
   "execution_count": null,
   "metadata": {},
   "outputs": [],
   "source": [
    "print(f\"{emb_endpoint}  {emb_apikey} {emb_model}\")"
   ]
  },
  {
   "cell_type": "code",
   "execution_count": null,
   "metadata": {},
   "outputs": [],
   "source": [
    "test_strings = [\"That is a happy dog\",\"That is a very happy person\",\"Today is a sunny day\"]\n",
    "\n",
    "embeddings = requests.post(\n",
    "    url=emb_endpoint+'/v1/embeddings',\n",
    "    json={\"input\": test_strings, \"model\": emb_model},\n",
    "    headers={'Authorization': 'Bearer '+emb_apikey}\n",
    ").json()\n",
    "\n",
    "print(embeddings)"
   ]
  },
  {
   "cell_type": "markdown",
   "metadata": {},
   "source": [
    "### Testing Nomic embed-text-v1-5\n",
    "https://www.nomic.ai/blog/posts/nomic-embed-text-v1\n",
    "\n"
   ]
  },
  {
   "cell_type": "code",
   "execution_count": 16,
   "metadata": {},
   "outputs": [],
   "source": [
    "emb_model, emb_apikey, emb_endpoint=read_model_parameters(\"NAOEMIC\")"
   ]
  },
  {
   "cell_type": "code",
   "execution_count": 17,
   "metadata": {},
   "outputs": [],
   "source": [
    "from langchain_openai import OpenAIEmbeddings\n",
    "\n",
    "\n",
    "embeddings_model = OpenAIEmbeddings(openai_api_base=emb_endpoint, openai_api_key=emb_apikey, model=emb_model)\n",
    "\n",
    "test_strings = [\"That is a happy dog\",\"That is a very happy person\",\"Today is a sunny day\"]\n",
    "\n"
   ]
  },
  {
   "cell_type": "code",
   "execution_count": null,
   "metadata": {},
   "outputs": [],
   "source": [
    "print(f\"{emb_endpoint}  {emb_apikey} {emb_model}\")"
   ]
  },
  {
   "cell_type": "code",
   "execution_count": null,
   "metadata": {},
   "outputs": [],
   "source": [
    "embeddings = embeddings_model.embed_documents(test_strings)\n",
    "\n",
    "print(embeddings)"
   ]
  },
  {
   "cell_type": "code",
   "execution_count": null,
   "metadata": {},
   "outputs": [],
   "source": [
    "from langchain_openai import OpenAIEmbeddings\n",
    "\n",
    "API_URL = \"https://nomic-embed-text-v1-5-maas-apicast-production.apps.prod.rhoai.rh-aiservices-bu.com:443\"\n",
    "API_KEY = emb_apikey\n",
    "\n",
    "embeddings_model = OpenAIEmbeddings(openai_api_base=API_URL, openai_api_key=API_KEY, model=emb_model)\n",
    "\n",
    "test_strings = [\"That is a happy dog\",\"That is a very happy person\",\"Today is a sunny day\"]\n",
    "\n",
    "embeddings = embeddings_model.embed_documents(test_strings)\n",
    "\n",
    "print(embeddings)"
   ]
  }
 ],
 "metadata": {
  "kernelspec": {
   "display_name": "ragapp",
   "language": "python",
   "name": "python3"
  },
  "language_info": {
   "codemirror_mode": {
    "name": "ipython",
    "version": 3
   },
   "file_extension": ".py",
   "mimetype": "text/x-python",
   "name": "python",
   "nbconvert_exporter": "python",
   "pygments_lexer": "ipython3",
   "version": "3.12.9"
  }
 },
 "nbformat": 4,
 "nbformat_minor": 2
}
