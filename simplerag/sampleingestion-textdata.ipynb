{
 "cells": [
  {
   "cell_type": "markdown",
   "id": "7f4953ff",
   "metadata": {},
   "source": [
    "Simple Pipeline that\n",
    "- read all the .txt from a folder\n",
    "- chunk data\n",
    "- apply embedding\n",
    "- save in Pgvector and qdrant preprod\n",
    "- retrieve data from pgvector\n",
    "- query a question using mistral \n"
   ]
  },
  {
   "cell_type": "markdown",
   "id": "215c4ea9",
   "metadata": {},
   "source": [
    "## Import libraries"
   ]
  },
  {
   "cell_type": "code",
   "execution_count": 11,
   "id": "330c1b94",
   "metadata": {},
   "outputs": [],
   "source": [
    "import requests\n",
    "import json\n",
    "import os\n",
    "from langchain_community.document_loaders import DirectoryLoader\n",
    "from langchain_text_splitters import RecursiveCharacterTextSplitter\n",
    "from langchain_huggingface import HuggingFaceEmbeddings\n",
    "from langchain_community.vectorstores import Qdrant\n",
    "from dotenv import load_dotenv\n",
    "\n"
   ]
  },
  {
   "cell_type": "markdown",
   "id": "4c0a738e",
   "metadata": {},
   "source": [
    "## setup initial parameters"
   ]
  },
  {
   "cell_type": "code",
   "execution_count": 12,
   "id": "aeeeed3f",
   "metadata": {},
   "outputs": [],
   "source": [
    "load_dotenv()\n",
    "local_path=os.getenv(\"LOCAL_PATH\")\n",
    "collection_name=os.getenv('COLLECTION_NAME')\n",
    "embedding_model=os.getenv('EMBEDDING_MODEL')\n",
    "chunk_size=int(os.getenv('CHUNK_SIZE'))\n",
    "chunk_overlap=int(os.getenv('CHUNK_OVERLAP'))\n",
    "pgddisconnection=os.getenv('PGDDISCONNECTION')\n",
    "qdrant_url = os.getenv(\"QDRANT_URL\", \"\")\n",
    "qdrant_api_key = os.getenv(\"QDRANT_API_KEY\", \"\")\n",
    "\n"
   ]
  },
  {
   "cell_type": "markdown",
   "id": "146f9bf8",
   "metadata": {},
   "source": [
    "## setup embedding model"
   ]
  },
  {
   "cell_type": "code",
   "execution_count": 13,
   "id": "198efbb1",
   "metadata": {},
   "outputs": [],
   "source": [
    "## here we are using OpenAI embeddings but in future we will swap out to local embeddings\n",
    "embeddings = HuggingFaceEmbeddings(\n",
    "            model_name=embedding_model,\n",
    "            model_kwargs = {'device': 'cpu'})\n"
   ]
  },
  {
   "cell_type": "markdown",
   "id": "1c374b64",
   "metadata": {},
   "source": [
    "## Load Data"
   ]
  },
  {
   "cell_type": "code",
   "execution_count": 14,
   "id": "77deaaac",
   "metadata": {},
   "outputs": [
    {
     "name": "stdout",
     "output_type": "stream",
     "text": [
      "data/pdfs\n"
     ]
    }
   ],
   "source": [
    "print(local_path)"
   ]
  },
  {
   "cell_type": "code",
   "execution_count": 15,
   "id": "aef74d7b",
   "metadata": {},
   "outputs": [
    {
     "data": {
      "text/plain": [
       "1"
      ]
     },
     "execution_count": 15,
     "metadata": {},
     "output_type": "execute_result"
    }
   ],
   "source": [
    "loader = DirectoryLoader(f'{local_path}', glob=\"./*.pdf\")\n",
    "\n",
    "documents = loader.load()\n",
    "len(documents)"
   ]
  },
  {
   "cell_type": "markdown",
   "id": "5c6bcbb9",
   "metadata": {},
   "source": [
    "## Recursive Text Splitter  => Chunks\n",
    "\n",
    "No separator. Only chunk size / overlap"
   ]
  },
  {
   "cell_type": "code",
   "execution_count": 16,
   "id": "1387750d",
   "metadata": {},
   "outputs": [
    {
     "data": {
      "text/plain": [
       "60"
      ]
     },
     "execution_count": 16,
     "metadata": {},
     "output_type": "execute_result"
    }
   ],
   "source": [
    "text_splitter = RecursiveCharacterTextSplitter(chunk_size=chunk_size, chunk_overlap=chunk_overlap)\n",
    "texts = text_splitter.split_documents(documents)\n",
    "len(texts)\n"
   ]
  },
  {
   "cell_type": "code",
   "execution_count": 17,
   "id": "f2ebe4b8",
   "metadata": {},
   "outputs": [
    {
     "data": {
      "text/plain": [
       "1"
      ]
     },
     "execution_count": 17,
     "metadata": {},
     "output_type": "execute_result"
    }
   ],
   "source": [
    "len(documents)"
   ]
  },
  {
   "cell_type": "code",
   "execution_count": 19,
   "id": "714ecee0",
   "metadata": {},
   "outputs": [
    {
     "name": "stderr",
     "output_type": "stream",
     "text": [
      "/home/mcastrol/.conda/envs/ragapp/lib/python3.12/site-packages/langchain_community/vectorstores/qdrant.py:2248: UserWarning: Api key is used with an insecure connection.\n",
      "  sync_client = QdrantClient(\n",
      "/home/mcastrol/.conda/envs/ragapp/lib/python3.12/site-packages/langchain_community/vectorstores/qdrant.py:2268: UserWarning: Api key is used with an insecure connection.\n",
      "  async_client = AsyncQdrantClient(\n"
     ]
    }
   ],
   "source": [
    "db=Qdrant.from_documents(\n",
    "    texts,\n",
    "    embeddings,\n",
    "    url=qdrant_url,\n",
    "    api_key=qdrant_api_key,\n",
    "    port=None,\n",
    "    collection_name=collection_name,\n",
    "    force_recreate=True\n",
    ")"
   ]
  },
  {
   "cell_type": "markdown",
   "id": "462647bc",
   "metadata": {},
   "source": [
    "## Getting similar documents from db"
   ]
  },
  {
   "cell_type": "code",
   "execution_count": 20,
   "id": "0f2bd1ec",
   "metadata": {},
   "outputs": [],
   "source": [
    "question=\"tell abour Normal Working Hours\""
   ]
  },
  {
   "cell_type": "code",
   "execution_count": 33,
   "id": "2d44b4bd",
   "metadata": {},
   "outputs": [
    {
     "data": {
      "text/plain": [
       "[(Document(metadata={'source': 'data/pdfs/India Associate Handbook V 1.1(23 June).pdf', '_id': '08c6462c-bbc5-4562-83cb-e50ced6cbde3', '_collection_name': 'india_collection_1'}, page_content='As an Associate, it is your responsibility to immediately update any changes in your personal information, such as your home address, telephone number, marital status, and number of dependents on Red Hat’s human resources information system (Workday).\\n\\nNewly hired Associates should verify and validate their personal information on Red Hat’s human resources information system (Workday) to ensure that their information is accurate.\\n\\nWORKING HOURS & RECORDING OF TIME WORKED\\n\\nNormal Working Hours Normal working hours are Monday through Friday, 9:30 a.m. to 6:30 p.m. with breaks as required by law. Your specific normal working hours can be found in your employment agreement and can be modified from time to time by your manager based on your roles and responsibilities, subject to applicable law.\\n\\nIndia Associate Handbook | Version - 01.1 <<23-JUNE-2022>>\\n\\nConfidential - Internal Use Only\\n\\n07/19'),\n",
       "  0.72799206),\n",
       " (Document(metadata={'source': 'data/pdfs/India Associate Handbook V 1.1(23 June).pdf', '_id': 'f214c793-7a78-420f-b09a-b30fa077d222', '_collection_name': 'india_collection_1'}, page_content='07/19\\n\\nWork in Excess of Normal Working Hours You may be required to work in excess of your normal working hours (or Overtime). If you work Overtime, you may be qualified for additional compensation as per applicable law. In order to receive overtime compensation, your manager must request you to work Overtime and approve your Overtime in advance in writing. Associates must also timely and accurately record any Overtime work.\\n\\nWork on a Weekly-Off or Public Holiday You may be required to work on a Weekly-off or on a Public Holiday, as designated on Red Hat’s Intranet, outside of your Normal Working Hours. If you work on a rest day or a Public Holiday, you may be qualified for additional compensation as per applicable law. In order to receive compensation for work on a rest day or Public Holiday, your manager must request you to work and approve the work in advance in writing. Associates must also timely and accurately record any Weekly-Off or Public Holiday work.'),\n",
       "  0.69480634)]"
      ]
     },
     "execution_count": 33,
     "metadata": {},
     "output_type": "execute_result"
    }
   ],
   "source": [
    "docs = db.similarity_search_with_score(question, k=2)\n",
    "docs"
   ]
  },
  {
   "cell_type": "code",
   "execution_count": 38,
   "id": "7d1495f9",
   "metadata": {},
   "outputs": [],
   "source": [
    "context = '\\n'.join([x[0].page_content for x in docs])\n",
    "\n",
    "\n",
    "prompt = f\"\"\"You are a helpful chatbot that can answer questions based on the provided context. \n",
    "You need not make use of the entire context provided to you.\n",
    "Try to interpret the question. If it is a general question asking for definitions, you can rephrase the content without changing the meaning of it.\n",
    "If the asked question demands steps or process or procedure, do not change the content and stick to the original form as possible. Also if context has Red Hat specific knowledge add that in answer.\n",
    "Also provide the source from which you took the answer under source: tag\n",
    "\n",
    "Context: {context}\n",
    "Question: {question}\"\"\""
   ]
  },
  {
   "cell_type": "code",
   "execution_count": 47,
   "id": "a693855f",
   "metadata": {},
   "outputs": [
    {
     "data": {
      "text/plain": [
       "2495"
      ]
     },
     "execution_count": 47,
     "metadata": {},
     "output_type": "execute_result"
    }
   ],
   "source": [
    "len(prompt)"
   ]
  },
  {
   "cell_type": "code",
   "execution_count": 42,
   "id": "b244d337",
   "metadata": {},
   "outputs": [
    {
     "name": "stderr",
     "output_type": "stream",
     "text": [
      "/home/mcastrol/.conda/envs/ragapp/lib/python3.12/site-packages/urllib3/connectionpool.py:1097: InsecureRequestWarning: Unverified HTTPS request is being made to host 'ddis-mistral-7b.apps.int.stc.ai.preprod.us-east-1.aws.paas.redhat.com'. Adding certificate verification is strongly advised. See: https://urllib3.readthedocs.io/en/latest/advanced-usage.html#tls-warnings\n",
      "  warnings.warn(\n"
     ]
    }
   ],
   "source": [
    "url = 'https://ddis-mistral-7b.apps.int.stc.ai.preprod.us-east-1.aws.paas.redhat.com/v1/chat/completions'\n",
    "headers = {\n",
    "    'accept': 'application/json',\n",
    "    'Content-Type': 'application/json',\n",
    "}\n",
    "data = {\n",
    "    \"messages\": [\n",
    "        {\n",
    "            \"role\": \"user\",\n",
    "            \"content\": prompt\n",
    "        }\n",
    "    ],\n",
    "    \"model\": \"mistral-7b\",\n",
    "    \"stream\": False\n",
    "}\n",
    "\n",
    "try:\n",
    "    response = requests.post(url, headers=headers, data=json.dumps(data), verify=False, timeout=30)\n",
    "    response.raise_for_status()  # Check for HTTP errors\n",
    "\n",
    "except requests.exceptions.RequestException as e:\n",
    "    print(f\"An error occurred: {e}\")"
   ]
  },
  {
   "cell_type": "code",
   "execution_count": 43,
   "id": "a2e563ec",
   "metadata": {},
   "outputs": [
    {
     "name": "stdout",
     "output_type": "stream",
     "text": [
      " Normal working hours at Red Hat, as stated in the India Associate Handbook, are from 9:30 a.m. to 6:30 p.m., Monday through Friday. These hours can be found in the employment agreement and may be modified based on roles and responsibilities, subject to applicable law. If an Associate needs to work beyond these hours, also known as Overtime, they must have their manager approve it in writing beforehand and accurately record the Overtime worked to be eligible for additional compensation.\n",
      "\n",
      "Source: India Associate Handbook | Version - 01.1 <<23-JUNE-2022>>.\n"
     ]
    }
   ],
   "source": [
    "print(response.json()['choices'][0]['message']['content']) "
   ]
  }
 ],
 "metadata": {
  "kernelspec": {
   "display_name": "ragapp",
   "language": "python",
   "name": "python3"
  },
  "language_info": {
   "codemirror_mode": {
    "name": "ipython",
    "version": 3
   },
   "file_extension": ".py",
   "mimetype": "text/x-python",
   "name": "python",
   "nbconvert_exporter": "python",
   "pygments_lexer": "ipython3",
   "version": "3.12.9"
  }
 },
 "nbformat": 4,
 "nbformat_minor": 5
}
